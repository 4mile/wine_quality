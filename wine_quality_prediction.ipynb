{
 "cells": [
  {
   "cell_type": "code",
   "execution_count": 2,
   "metadata": {
    "collapsed": false,
    "deletable": true,
    "editable": true
   },
   "outputs": [
    {
     "name": "stderr",
     "output_type": "stream",
     "text": [
      "/usr/local/envs/py2env/lib/python2.7/site-packages/h5py/__init__.py:36: FutureWarning: Conversion of the second argument of issubdtype from `float` to `np.floating` is deprecated. In future, it will be treated as `np.float64 == np.dtype(float).type`.\n",
      "  from ._conv import register_converters as _register_converters\n"
     ]
    }
   ],
   "source": [
    "import math\n",
    "from matplotlib import cm\n",
    "from matplotlib import gridspec\n",
    "from matplotlib import pyplot as plt\n",
    "import numpy as np\n",
    "import pandas as pd\n",
    "from sklearn import metrics\n",
    "import tensorflow as tf\n",
    "from tensorflow.python.data import Dataset\n",
    "\n",
    "tf.logging.set_verbosity(tf.logging.ERROR)\n",
    "pd.options.display.max_rows = 10\n",
    "pd.options.display.float_format = '{:.1f}'.format"
   ]
  },
  {
   "cell_type": "markdown",
   "metadata": {
    "deletable": true,
    "editable": true
   },
   "source": [
    "## Import and Prepare data"
   ]
  },
  {
   "cell_type": "code",
   "execution_count": 3,
   "metadata": {
    "collapsed": true,
    "deletable": true,
    "editable": true
   },
   "outputs": [],
   "source": [
    "wine_df = pd.read_csv(\"wine_data.csv\", sep=\",\")\n",
    "\n",
    "wine_df = wine_df.reindex(\n",
    "    np.random.permutation(wine_df.index))"
   ]
  },
  {
   "cell_type": "code",
   "execution_count": 4,
   "metadata": {
    "collapsed": false,
    "deletable": true,
    "editable": true
   },
   "outputs": [
    {
     "data": {
      "text/html": [
       "<div>\n",
       "<style scoped>\n",
       "    .dataframe tbody tr th:only-of-type {\n",
       "        vertical-align: middle;\n",
       "    }\n",
       "\n",
       "    .dataframe tbody tr th {\n",
       "        vertical-align: top;\n",
       "    }\n",
       "\n",
       "    .dataframe thead th {\n",
       "        text-align: right;\n",
       "    }\n",
       "</style>\n",
       "<table border=\"1\" class=\"dataframe\">\n",
       "  <thead>\n",
       "    <tr style=\"text-align: right;\">\n",
       "      <th></th>\n",
       "      <th>wine_id</th>\n",
       "      <th>fixed_acidity</th>\n",
       "      <th>volatile_acidity</th>\n",
       "      <th>citric_acid</th>\n",
       "      <th>residual_sugar</th>\n",
       "      <th>chlorides</th>\n",
       "      <th>free_sulfur_dioxide</th>\n",
       "      <th>total_sulfur_dioxide</th>\n",
       "      <th>density</th>\n",
       "      <th>pH</th>\n",
       "      <th>sulphates</th>\n",
       "      <th>alcohol</th>\n",
       "      <th>quality</th>\n",
       "      <th>wine_type_red</th>\n",
       "      <th>sugar_to_acidity_ratio</th>\n",
       "    </tr>\n",
       "  </thead>\n",
       "  <tbody>\n",
       "    <tr>\n",
       "      <th>741</th>\n",
       "      <td>4553</td>\n",
       "      <td>7.1</td>\n",
       "      <td>0.3</td>\n",
       "      <td>0.2</td>\n",
       "      <td>15.4</td>\n",
       "      <td>0.1</td>\n",
       "      <td>46.0</td>\n",
       "      <td>198.0</td>\n",
       "      <td>1.0</td>\n",
       "      <td>3.1</td>\n",
       "      <td>0.5</td>\n",
       "      <td>8.8</td>\n",
       "      <td>5</td>\n",
       "      <td>0</td>\n",
       "      <td>2.2</td>\n",
       "    </tr>\n",
       "    <tr>\n",
       "      <th>359</th>\n",
       "      <td>2972</td>\n",
       "      <td>6.6</td>\n",
       "      <td>0.2</td>\n",
       "      <td>0.3</td>\n",
       "      <td>12.1</td>\n",
       "      <td>0.1</td>\n",
       "      <td>25.0</td>\n",
       "      <td>125.0</td>\n",
       "      <td>1.0</td>\n",
       "      <td>3.5</td>\n",
       "      <td>0.5</td>\n",
       "      <td>9.4</td>\n",
       "      <td>5</td>\n",
       "      <td>0</td>\n",
       "      <td>1.8</td>\n",
       "    </tr>\n",
       "    <tr>\n",
       "      <th>620</th>\n",
       "      <td>2179</td>\n",
       "      <td>6.8</td>\n",
       "      <td>0.3</td>\n",
       "      <td>0.3</td>\n",
       "      <td>2.3</td>\n",
       "      <td>0.0</td>\n",
       "      <td>16.0</td>\n",
       "      <td>85.0</td>\n",
       "      <td>1.0</td>\n",
       "      <td>3.2</td>\n",
       "      <td>0.6</td>\n",
       "      <td>12.4</td>\n",
       "      <td>6</td>\n",
       "      <td>0</td>\n",
       "      <td>0.3</td>\n",
       "    </tr>\n",
       "    <tr>\n",
       "      <th>2932</th>\n",
       "      <td>4244</td>\n",
       "      <td>7.6</td>\n",
       "      <td>0.2</td>\n",
       "      <td>0.4</td>\n",
       "      <td>1.1</td>\n",
       "      <td>0.0</td>\n",
       "      <td>38.0</td>\n",
       "      <td>143.0</td>\n",
       "      <td>1.0</td>\n",
       "      <td>2.9</td>\n",
       "      <td>0.4</td>\n",
       "      <td>11.4</td>\n",
       "      <td>5</td>\n",
       "      <td>0</td>\n",
       "      <td>0.1</td>\n",
       "    </tr>\n",
       "    <tr>\n",
       "      <th>881</th>\n",
       "      <td>3995</td>\n",
       "      <td>7.3</td>\n",
       "      <td>0.2</td>\n",
       "      <td>0.5</td>\n",
       "      <td>1.3</td>\n",
       "      <td>0.0</td>\n",
       "      <td>34.0</td>\n",
       "      <td>136.0</td>\n",
       "      <td>1.0</td>\n",
       "      <td>3.1</td>\n",
       "      <td>0.8</td>\n",
       "      <td>10.5</td>\n",
       "      <td>6</td>\n",
       "      <td>0</td>\n",
       "      <td>0.2</td>\n",
       "    </tr>\n",
       "  </tbody>\n",
       "</table>\n",
       "</div>"
      ],
      "text/plain": [
       "      wine_id  fixed_acidity  volatile_acidity  citric_acid  residual_sugar  \\\n",
       "741      4553            7.1               0.3          0.2            15.4   \n",
       "359      2972            6.6               0.2          0.3            12.1   \n",
       "620      2179            6.8               0.3          0.3             2.3   \n",
       "2932     4244            7.6               0.2          0.4             1.1   \n",
       "881      3995            7.3               0.2          0.5             1.3   \n",
       "\n",
       "      chlorides  free_sulfur_dioxide  total_sulfur_dioxide  density  pH  \\\n",
       "741         0.1                 46.0                 198.0      1.0 3.1   \n",
       "359         0.1                 25.0                 125.0      1.0 3.5   \n",
       "620         0.0                 16.0                  85.0      1.0 3.2   \n",
       "2932        0.0                 38.0                 143.0      1.0 2.9   \n",
       "881         0.0                 34.0                 136.0      1.0 3.1   \n",
       "\n",
       "      sulphates  alcohol  quality  wine_type_red  sugar_to_acidity_ratio  \n",
       "741         0.5      8.8        5              0                     2.2  \n",
       "359         0.5      9.4        5              0                     1.8  \n",
       "620         0.6     12.4        6              0                     0.3  \n",
       "2932        0.4     11.4        5              0                     0.1  \n",
       "881         0.8     10.5        6              0                     0.2  "
      ]
     },
     "execution_count": 4,
     "metadata": {},
     "output_type": "execute_result"
    }
   ],
   "source": [
    "wine_df.head()"
   ]
  },
  {
   "cell_type": "code",
   "execution_count": 5,
   "metadata": {
    "collapsed": true,
    "deletable": true,
    "editable": true
   },
   "outputs": [],
   "source": [
    "def preprocess_features(wine_df):\n",
    "  # Make features df\n",
    "  features = wine_df.copy()\n",
    "  features = features.drop(\"wine_id\", 1)\n",
    "  features = features.drop(\"quality\", 1)\n",
    "  return features\n",
    "\n",
    "def preprocess_targets(wine_df):\n",
    "  # Make target df\n",
    "  targets = wine_df.copy()\n",
    "  targets = targets.loc[:, [\"quality\"]]\n",
    "  return targets"
   ]
  },
  {
   "cell_type": "markdown",
   "metadata": {
    "deletable": true,
    "editable": true
   },
   "source": [
    "### Create training and validation datasets"
   ]
  },
  {
   "cell_type": "code",
   "execution_count": 6,
   "metadata": {
    "collapsed": false,
    "deletable": true,
    "editable": true
   },
   "outputs": [
    {
     "name": "stdout",
     "output_type": "stream",
     "text": [
      "Size of training dataset: \n",
      "4278\n",
      "Size of validation dataset\n",
      "1833\n"
     ]
    }
   ],
   "source": [
    "prop_for_training = 0.7\n",
    "n_training = int(round(prop_for_training*len(wine_df),0))\n",
    "n_val = len(wine_df) - n_training\n",
    "print 'Size of training dataset: '\n",
    "print n_training\n",
    "print 'Size of validation dataset'\n",
    "print n_val"
   ]
  },
  {
   "cell_type": "code",
   "execution_count": 7,
   "metadata": {
    "collapsed": false,
    "deletable": true,
    "editable": true
   },
   "outputs": [],
   "source": [
    "# Define training dataset.\n",
    "training_examples = preprocess_features(wine_df.head(n_training))\n",
    "training_targets = preprocess_targets(wine_df.head(n_training))\n",
    "\n",
    "# Define validation dataset\n",
    "validation_examples = preprocess_features(wine_df.tail(n_val))\n",
    "validation_targets = preprocess_targets(wine_df.tail(n_val))\n",
    "\n",
    "# Define full datasets (for getting predicted values)\n",
    "examples = preprocess_features(wine_df)\n",
    "targets = preprocess_targets(wine_df)"
   ]
  },
  {
   "cell_type": "code",
   "execution_count": 8,
   "metadata": {
    "collapsed": true,
    "deletable": true,
    "editable": true
   },
   "outputs": [],
   "source": [
    "def construct_feature_columns(input_features):\n",
    "  \"\"\"Construct the TensorFlow Feature Columns.\n",
    "\n",
    "  Args:\n",
    "    input_features: The names of the numerical input features to use.\n",
    "  Returns:\n",
    "    A set of feature columns\n",
    "  \"\"\" \n",
    "  return set([tf.feature_column.numeric_column(my_feature)\n",
    "              for my_feature in input_features])"
   ]
  },
  {
   "cell_type": "markdown",
   "metadata": {
    "deletable": true,
    "editable": true
   },
   "source": [
    "## Input function"
   ]
  },
  {
   "cell_type": "code",
   "execution_count": 9,
   "metadata": {
    "collapsed": true,
    "deletable": true,
    "editable": true
   },
   "outputs": [],
   "source": [
    "def my_input_fn(features, targets, batch_size=1, shuffle=True, num_epochs=None):\n",
    "    \"\"\"Trains a neural net regression model.\n",
    "  \n",
    "    Args:\n",
    "      features: pandas DataFrame of features\n",
    "      targets: pandas DataFrame of targets\n",
    "      batch_size: Size of batches to be passed to the model\n",
    "      shuffle: True or False. Whether to shuffle the data.\n",
    "      num_epochs: Number of epochs for which data should be repeated. None = repeat indefinitely\n",
    "    Returns:\n",
    "      Tuple of (features, labels) for next data batch\n",
    "    \"\"\"\n",
    "    \n",
    "    # Convert pandas data into a dict of np arrays.\n",
    "    features = {key:np.array(value) for key,value in dict(features).items()}                                             \n",
    " \n",
    "    # Construct a dataset, and configure batching/repeating.\n",
    "    ds = Dataset.from_tensor_slices((features,targets)) # warning: 2GB limit\n",
    "    ds = ds.batch(batch_size).repeat(num_epochs)\n",
    "    \n",
    "    # Shuffle the data, if specified.\n",
    "    if shuffle:\n",
    "      ds = ds.shuffle(10000)\n",
    "    \n",
    "    # Return the next batch of data.\n",
    "    features, labels = ds.make_one_shot_iterator().get_next()\n",
    "    return features, labels"
   ]
  },
  {
   "cell_type": "markdown",
   "metadata": {
    "deletable": true,
    "editable": true
   },
   "source": [
    "## Load saved model"
   ]
  },
  {
   "cell_type": "code",
   "execution_count": 10,
   "metadata": {
    "collapsed": false,
    "deletable": true,
    "editable": true
   },
   "outputs": [],
   "source": [
    "def get_model(features):\n",
    "  # Load the DNNRegressor object.\n",
    "  my_optimizer = tf.train.GradientDescentOptimizer(learning_rate=0.000001)\n",
    "  my_optimizer = tf.contrib.estimator.clip_gradients_by_norm(my_optimizer, 5.0)\n",
    "  dnn_regressor = tf.estimator.DNNRegressor(\n",
    "      feature_columns=construct_feature_columns(features),\n",
    "      hidden_units=[10, 10],\n",
    "      optimizer=my_optimizer,\n",
    "      model_dir='./models/wine_pred')\n",
    "\n",
    "  return dnn_regressor\n",
    "\n",
    "dnn_regressor = get_model(training_examples)"
   ]
  },
  {
   "cell_type": "markdown",
   "metadata": {
    "deletable": true,
    "editable": true
   },
   "source": [
    "## Training function"
   ]
  },
  {
   "cell_type": "code",
   "execution_count": 11,
   "metadata": {
    "collapsed": false,
    "deletable": true,
    "editable": true
   },
   "outputs": [],
   "source": [
    "def train_nn_regression_model(\n",
    "    learning_rate,\n",
    "    steps,\n",
    "    batch_size,\n",
    "    hidden_units,\n",
    "    training_examples,\n",
    "    training_targets,\n",
    "    validation_examples,\n",
    "    validation_targets,\n",
    "    reset,\n",
    "    tf_object):\n",
    "\n",
    "  periods = 100\n",
    "  steps_per_period = steps / periods\n",
    "  \n",
    "  # Only save the last version of the model\n",
    "  my_checkpointing_config = tf.estimator.RunConfig(\n",
    "    keep_checkpoint_max = 1,       # Retain the 1 most recent checkpoints.\n",
    "  )\n",
    "  \n",
    "  if reset:\n",
    "    # Create a DNNRegressor object.\n",
    "    my_optimizer = tf.train.GradientDescentOptimizer(learning_rate=learning_rate)\n",
    "    my_optimizer = tf.contrib.estimator.clip_gradients_by_norm(my_optimizer, 5.0)\n",
    "    dnn_regressor = tf.estimator.DNNRegressor(\n",
    "        feature_columns=construct_feature_columns(training_examples),\n",
    "        hidden_units=hidden_units,\n",
    "        optimizer=my_optimizer,\n",
    "        model_dir='./models/wine_pred',\n",
    "        config=my_checkpointing_config\n",
    "    )\n",
    "  else:\n",
    "    dnn_regressor = tf_object\n",
    "  \n",
    "  # Create input functions.\n",
    "  training_input_fn = lambda: my_input_fn(training_examples, \n",
    "                                          training_targets[\"quality\"], \n",
    "                                          batch_size=batch_size)\n",
    "  predict_training_input_fn = lambda: my_input_fn(training_examples, \n",
    "                                                  training_targets[\"quality\"], \n",
    "                                                  num_epochs=1, \n",
    "                                                  shuffle=False)\n",
    "  predict_validation_input_fn = lambda: my_input_fn(validation_examples, \n",
    "                                                    validation_targets[\"quality\"], \n",
    "                                                    num_epochs=1, \n",
    "                                                    shuffle=False)\n",
    "\n",
    "  # Train the model, but do so inside a loop so that we can periodically assess\n",
    "  # loss metrics.\n",
    "  print \"Training model...\"\n",
    "  print \"RMSE (on training data):\"\n",
    "  training_rmse = []\n",
    "  validation_rmse = []\n",
    "  for period in range (0, periods):\n",
    "    # Train the model, starting from the prior state.\n",
    "    dnn_regressor.train(\n",
    "        input_fn=training_input_fn,\n",
    "        steps=steps_per_period\n",
    "    )\n",
    "    # Take a break and compute predictions.\n",
    "    training_predictions = dnn_regressor.predict(input_fn=predict_training_input_fn)\n",
    "    training_predictions = np.array([item['predictions'][0] for item in training_predictions])\n",
    "    \n",
    "    validation_predictions = dnn_regressor.predict(input_fn=predict_validation_input_fn)\n",
    "    validation_predictions = np.array([item['predictions'][0] for item in validation_predictions])\n",
    "    \n",
    "    # Compute training and validation loss.\n",
    "    training_root_mean_squared_error = math.sqrt(\n",
    "        metrics.mean_squared_error(training_predictions, training_targets))\n",
    "    validation_root_mean_squared_error = math.sqrt(\n",
    "        metrics.mean_squared_error(validation_predictions, validation_targets))\n",
    "    # Occasionally print the current loss.\n",
    "    print \"  period %02d : %0.2f\" % (period, training_root_mean_squared_error)\n",
    "    # Add the loss metrics from this period to our list.\n",
    "    training_rmse.append(training_root_mean_squared_error)\n",
    "    validation_rmse.append(validation_root_mean_squared_error)\n",
    "  print \"Model training finished.\"\n",
    "  \n",
    "  # Output a graph of loss metrics over periods.\n",
    "  plt.ylabel(\"RMSE\")\n",
    "  plt.xlabel(\"Periods\")\n",
    "  plt.title(\"Root Mean Squared Error vs. Periods\")\n",
    "  plt.tight_layout()\n",
    "  plt.plot(training_rmse, label=\"training\")\n",
    "  plt.plot(validation_rmse, label=\"validation\")\n",
    "  plt.legend()\n",
    "\n",
    "  print \"Final RMSE (on training data):   %0.2f\" % training_root_mean_squared_error\n",
    "  print \"Final RMSE (on validation data): %0.2f\" % validation_root_mean_squared_error\n",
    "\n",
    "  return dnn_regressor"
   ]
  },
  {
   "cell_type": "markdown",
   "metadata": {
    "deletable": true,
    "editable": true
   },
   "source": [
    "## Train the model"
   ]
  },
  {
   "cell_type": "code",
   "execution_count": 12,
   "metadata": {
    "collapsed": false,
    "deletable": true,
    "editable": true
   },
   "outputs": [
    {
     "name": "stdout",
     "output_type": "stream",
     "text": [
      "Training model...\n",
      "RMSE (on training data):\n",
      "  period 00 : 0.78\n",
      "  period 01 : 0.78\n",
      "  period 02 : 0.78\n",
      "  period 03 : 0.78\n",
      "  period 04 : 0.78\n",
      "  period 05 : 0.78\n",
      "  period 06 : 0.78\n",
      "  period 07 : 0.78\n",
      "  period 08 : 0.78\n",
      "  period 09 : 0.78\n",
      "  period 10 : 0.78\n",
      "  period 11 : 0.78\n",
      "  period 12 : 0.78\n",
      "  period 13 : 0.78\n",
      "  period 14 : 0.78\n",
      "  period 15 : 0.78\n",
      "  period 16 : 0.78\n",
      "  period 17 : 0.78\n",
      "  period 18 : 0.78\n",
      "  period 19 : 0.78\n",
      "  period 20 : 0.78\n",
      "  period 21 : 0.78\n",
      "  period 22 : 0.78\n",
      "  period 23 : 0.78\n",
      "  period 24 : 0.78\n",
      "  period 25 : 0.78\n",
      "  period 26 : 0.78\n",
      "  period 27 : 0.78\n",
      "  period 28 : 0.78\n",
      "  period 29 : 0.78\n",
      "  period 30 : 0.78\n",
      "  period 31 : 0.78\n",
      "  period 32 : 0.78\n",
      "  period 33 : 0.78\n",
      "  period 34 : 0.78\n",
      "  period 35 : 0.78\n",
      "  period 36 : 0.78\n",
      "  period 37 : 0.78\n",
      "  period 38 : 0.78\n",
      "  period 39 : 0.78\n",
      "  period 40 : 0.78\n",
      "  period 41 : 0.78\n",
      "  period 42 : 0.78\n",
      "  period 43 : 0.78\n",
      "  period 44 : 0.78\n",
      "  period 45 : 0.78\n",
      "  period 46 : 0.78\n",
      "  period 47 : 0.78\n",
      "  period 48 : 0.78\n",
      "  period 49 : 0.78\n",
      "  period 50 : 0.78\n",
      "  period 51 : 0.78\n",
      "  period 52 : 0.78\n",
      "  period 53 : 0.78\n",
      "  period 54 : 0.78\n",
      "  period 55 : 0.78\n",
      "  period 56 : 0.78\n",
      "  period 57 : 0.78\n",
      "  period 58 : 0.78\n",
      "  period 59 : 0.78\n",
      "  period 60 : 0.78\n",
      "  period 61 : 0.78\n",
      "  period 62 : 0.78\n",
      "  period 63 : 0.78\n",
      "  period 64 : 0.78\n",
      "  period 65 : 0.78\n",
      "  period 66 : 0.78\n",
      "  period 67 : 0.78\n",
      "  period 68 : 0.78\n",
      "  period 69 : 0.78\n",
      "  period 70 : 0.78\n",
      "  period 71 : 0.78\n",
      "  period 72 : 0.78\n",
      "  period 73 : 0.78\n",
      "  period 74 : 0.78\n",
      "  period 75 : 0.78\n",
      "  period 76 : 0.78\n",
      "  period 77 : 0.78\n",
      "  period 78 : 0.78\n",
      "  period 79 : 0.78\n",
      "  period 80 : 0.78\n",
      "  period 81 : 0.78\n",
      "  period 82 : 0.78\n",
      "  period 83 : 0.78\n",
      "  period 84 : 0.78\n",
      "  period 85 : 0.78\n",
      "  period 86 : 0.78\n",
      "  period 87 : 0.78\n",
      "  period 88 : 0.78\n",
      "  period 89 : 0.78\n",
      "  period 90 : 0.78\n",
      "  period 91 : 0.78\n",
      "  period 92 : 0.78\n",
      "  period 93 : 0.78\n",
      "  period 94 : 0.78\n",
      "  period 95 : 0.78\n",
      "  period 96 : 0.78\n",
      "  period 97 : 0.78\n",
      "  period 98 : 0.78\n",
      "  period 99 : 0.78\n",
      "Model training finished.\n"
     ]
    },
    {
     "name": "stderr",
     "output_type": "stream",
     "text": [
      "/usr/local/envs/py2env/lib/python2.7/site-packages/matplotlib/font_manager.py:1320: UserWarning: findfont: Font family [u'sans-serif'] not found. Falling back to DejaVu Sans\n",
      "  (prop.get_family(), self.defaultFamily[fontext]))\n"
     ]
    },
    {
     "name": "stdout",
     "output_type": "stream",
     "text": [
      "Final RMSE (on training data):   0.78\n",
      "Final RMSE (on validation data): 0.79\n"
     ]
    },
    {
     "data": {
      "image/png": "[encoded data removed]",
      "text/plain": [
       "<matplotlib.figure.Figure at 0x7f6dcc306f50>"
      ]
     },
     "metadata": {},
     "output_type": "display_data"
    }
   ],
   "source": [
    "dnn_regressor = train_nn_regression_model(\n",
    "    learning_rate=0.000001,\n",
    "    steps=5000,\n",
    "    batch_size=10,\n",
    "    hidden_units=[10,10],\n",
    "    training_examples=training_examples,\n",
    "    training_targets=training_targets,\n",
    "    validation_examples=validation_examples,\n",
    "    validation_targets=validation_targets,\n",
    "    reset = False,\n",
    "    tf_object = dnn_regressor)"
   ]
  },
  {
   "cell_type": "markdown",
   "metadata": {
    "deletable": true,
    "editable": true
   },
   "source": [
    "## Get predicted values for all dataset"
   ]
  },
  {
   "cell_type": "code",
   "execution_count": 13,
   "metadata": {
    "collapsed": false,
    "deletable": true,
    "editable": true
   },
   "outputs": [],
   "source": [
    "predict_training_input_fn = lambda: my_input_fn(examples, \n",
    "                                                  targets[\"quality\"], \n",
    "                                                  num_epochs=1, \n",
    "                                                  shuffle=False)\n",
    "  \n",
    "predictions = dnn_regressor.predict(input_fn=predict_training_input_fn)\n",
    "predictions = np.array([item['predictions'][0] for item in predictions])"
   ]
  },
  {
   "cell_type": "markdown",
   "metadata": {
    "deletable": true,
    "editable": true
   },
   "source": [
    "## Plot actual vs. pred"
   ]
  },
  {
   "cell_type": "code",
   "execution_count": 15,
   "metadata": {
    "collapsed": false,
    "deletable": true,
    "editable": true
   },
   "outputs": [
    {
     "data": {
      "text/plain": [
       "(4.5, 7.5)"
      ]
     },
     "execution_count": 15,
     "metadata": {},
     "output_type": "execute_result"
    },
    {
     "data": {
      "image/png": "[encoded data removed]",
      "text/plain": [
       "<matplotlib.figure.Figure at 0x7f6dcc7bb410>"
      ]
     },
     "metadata": {},
     "output_type": "display_data"
    }
   ],
   "source": [
    "x = targets[\"quality\"] + np.random.normal(0, 0.1, len(targets))\n",
    "plt.scatter(x, predictions)\n",
    "axes = plt.gca()\n",
    "axes.set_ylim([4.5,7.5])"
   ]
  },
  {
   "cell_type": "markdown",
   "metadata": {
    "deletable": true,
    "editable": true
   },
   "source": [
    "## Save model"
   ]
  },
  {
   "cell_type": "code",
   "execution_count": 67,
   "metadata": {
    "collapsed": false,
    "deletable": true,
    "editable": true
   },
   "outputs": [],
   "source": [
    "v = tf.Variable(tf.constant(0))\n",
    "with tf.Session() as sess:\n",
    "    sess.run(tf.global_variables_initializer())\n",
    "    saver = tf.train.Saver()\n",
    "    saver.save(sess, '/content/datalab/notebooks/models/tensorflow_model.ckpt')"
   ]
  },
  {
   "cell_type": "markdown",
   "metadata": {
    "deletable": true,
    "editable": true
   },
   "source": [
    "## Write predicted values to BigQuery"
   ]
  },
  {
   "cell_type": "code",
   "execution_count": 82,
   "metadata": {
    "collapsed": false,
    "deletable": true,
    "editable": true
   },
   "outputs": [],
   "source": [
    "results = wine_df.loc[:, [\"wine_id\"]]\n",
    "results['predicted_quality'] = predictions"
   ]
  },
  {
   "cell_type": "code",
   "execution_count": 85,
   "metadata": {
    "collapsed": true,
    "deletable": true,
    "editable": true
   },
   "outputs": [],
   "source": [
    "from google.cloud import bigquery\n",
    "client = bigquery.Client(project='looker-action-hub')\n",
    "dataset_ref = client.dataset('wine_data')\n",
    "\n",
    "schema = [\n",
    "    bigquery.SchemaField('wine_id', 'INTEGER', mode='REQUIRED'),\n",
    "    bigquery.SchemaField('predicted_quality', 'FLOAT', mode='REQUIRED'),\n",
    "]\n",
    "table_ref = dataset_ref.table('predicted_quality')\n",
    "table = bigquery.Table(table_ref, schema=schema)\n",
    "# table = client.create_table(table)  # API request"
   ]
  },
  {
   "cell_type": "code",
   "execution_count": 86,
   "metadata": {
    "collapsed": false,
    "deletable": true,
    "editable": true
   },
   "outputs": [
    {
     "data": {
      "text/plain": [
       "[]"
      ]
     },
     "execution_count": 86,
     "metadata": {},
     "output_type": "execute_result"
    }
   ],
   "source": [
    "client.create_rows(table, results.as_matrix())  # API request"
   ]
  },
  {
   "cell_type": "code",
   "execution_count": null,
   "metadata": {
    "collapsed": true,
    "deletable": true,
    "editable": true
   },
   "outputs": [],
   "source": []
  }
 ],
 "metadata": {
  "kernelspec": {
   "display_name": "Python 2",
   "language": "python",
   "name": "python2"
  },
  "language_info": {
   "codemirror_mode": {
    "name": "ipython",
    "version": 2
   },
   "file_extension": ".py",
   "mimetype": "text/x-python",
   "name": "python",
   "nbconvert_exporter": "python",
   "pygments_lexer": "ipython2",
   "version": "2.7.15"
  }
 },
 "nbformat": 4,
 "nbformat_minor": 2
}
